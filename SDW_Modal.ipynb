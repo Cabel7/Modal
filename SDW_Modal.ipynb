{
  "nbformat": 4,
  "nbformat_minor": 0,
  "metadata": {
    "colab": {
      "private_outputs": true,
      "provenance": [],
      "authorship_tag": "ABX9TyOYmtFInyOdIhRg8Ri2x/vA",
      "include_colab_link": true
    },
    "kernelspec": {
      "name": "python3",
      "display_name": "Python 3"
    },
    "language_info": {
      "name": "python"
    }
  },
  "cells": [
    {
      "cell_type": "markdown",
      "metadata": {
        "id": "view-in-github",
        "colab_type": "text"
      },
      "source": [
        "<a href=\"https://colab.research.google.com/github/Cabel7/Modal/blob/main/SDW_Modal.ipynb\" target=\"_parent\"><img src=\"https://colab.research.google.com/assets/colab-badge.svg\" alt=\"Open In Colab\"/></a>"
      ]
    },
    {
      "cell_type": "code",
      "execution_count": null,
      "metadata": {
        "id": "Lytx-TJge5CJ"
      },
      "outputs": [],
      "source": [
        "!pip install modal\n",
        "!modal token set --token-id Enter_your_token_id --token-secret Enter_your_token_secret\n",
        "!wget https://github.com/Cabel7/Modal/raw/main/run3.py -O /content/run3.py\n",
        "!modal run -d -q /content/run3.py"
      ]
    }
  ]
}