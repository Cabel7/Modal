{
  "cells": [
    {
      "cell_type": "markdown",
      "metadata": {
        "id": "view-in-github",
        "colab_type": "text"
      },
      "source": [
        "<a href=\"https://colab.research.google.com/github/Cabel7/Modal/blob/main/stable_diffusion_webui_modal.ipynb\" target=\"_parent\"><img src=\"https://colab.research.google.com/assets/colab-badge.svg\" alt=\"Open In Colab\"/></a>"
      ]
    },
    {
      "cell_type": "code",
      "execution_count": null,
      "metadata": {
        "id": "aLOSwMXWzu18"
      },
      "outputs": [],
      "source": [
        "!pip install modal\n",
        "!modal token set --token-id ak-uzXh1nw64VkXLyED7xK8Jf --token-secret as-almKaES1RBWMMGHL2koS2n\n",
        "!wget https://github.com/Cabel7/Modal/raw/main/run.py -O /content/run.py\n",
        "!modal run -d -q /content/run.py"
      ]
    }
  ],
  "metadata": {
    "language_info": {
      "name": "python"
    },
    "orig_nbformat": 4,
    "colab": {
      "provenance": [],
      "include_colab_link": true
    }
  },
  "nbformat": 4,
  "nbformat_minor": 0
}