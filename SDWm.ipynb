!pip install modal
!modal token set --token-id Enter_your_token_id --token-secret Enter_your_token_secret 
!wget https://github.com/Cabel7/Modal/raw/main/run3.py -O /content/run3.py
!modal run -d -q /content/run3.py